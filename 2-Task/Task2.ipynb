{
 "cells": [
  {
   "cell_type": "markdown",
   "metadata": {},
   "source": [
    "Задание: Создать наследника класса фигура – класс прямоугольника, с соответствующим изменением конструктора (рисует в псевдографике звездочками прямоугольник)"
   ]
  },
  {
   "cell_type": "code",
   "execution_count": 4,
   "metadata": {},
   "outputs": [
    {
     "name": "stdout",
     "output_type": "stream",
     "text": [
      "                                        \n",
      "                                        \n",
      "                                        \n",
      "  *************************             \n",
      "  *                       *             \n",
      "  *                       *             \n",
      "  *                       *             \n",
      "  *                       *             \n",
      "  *                       *             \n",
      "  *************************             \n",
      "                                        \n",
      "                                        \n",
      "                                        \n",
      "                                        \n",
      "                                        \n",
      "                                        \n",
      "                                        \n",
      "                                        \n",
      "                                        \n",
      "                                        \n",
      "                                        \n",
      "                                        \n",
      "                                        \n",
      "                                        \n",
      "                                        \n",
      "                                        \n",
      "                                        \n",
      "                                        \n",
      "                                        \n",
      "                                        \n",
      "                                        \n",
      "                                        \n",
      "                                        \n",
      "                                        \n",
      "                                        \n",
      "                                        \n",
      "                                        \n",
      "                                        \n",
      "                                        \n",
      "                                        \n",
      "\n"
     ]
    }
   ],
   "source": [
    "\n",
    "\n",
    "# Объявляем класс \n",
    "class Figure:\n",
    "    def __init__(self, coords):\n",
    "        self.coords = coords \n",
    "\n",
    "    def draw(self):\n",
    "        result = ''\n",
    "        for i in range(40):\n",
    "            for j in range(40):\n",
    "                if (j, i) in self.coords:\n",
    "                    result += '*'\n",
    "                else:\n",
    "                    result += ' '\n",
    "            result += '\\n'\n",
    "        return result\n",
    "\n",
    "# Создаем новый класс Прямоугольника\n",
    "class Rectangle(Figure):\n",
    "    def __init__(self, top_left, bottom_right):\n",
    "        self.coords = []\n",
    "        self.length = bottom_right[0] - top_left[0]\n",
    "        self.width = bottom_right[1] - top_left[1]\n",
    "        for i in range(top_left[0], bottom_right[0] + 1):\n",
    "            self.coords.append((i, top_left[1]))\n",
    "            self.coords.append((i, bottom_right[1]))\n",
    "        for i in range(top_left[1], bottom_right[1] + 1):\n",
    "            self.coords.append((top_left[0], i))\n",
    "            self.coords.append((bottom_right[0], i))\n",
    "            \n",
    "# Рисуем по координатам\n",
    "fig = Rectangle((2, 3), (26, 9))\n",
    "print( fig.draw() )\n"
   ]
  },
  {
   "cell_type": "code",
   "execution_count": null,
   "metadata": {},
   "outputs": [],
   "source": []
  }
 ],
 "metadata": {
  "kernelspec": {
   "display_name": "Python 3",
   "language": "python",
   "name": "python3"
  },
  "language_info": {
   "codemirror_mode": {
    "name": "ipython",
    "version": 3
   },
   "file_extension": ".py",
   "mimetype": "text/x-python",
   "name": "python",
   "nbconvert_exporter": "python",
   "pygments_lexer": "ipython3",
   "version": "3.8.3"
  }
 },
 "nbformat": 4,
 "nbformat_minor": 4
}
