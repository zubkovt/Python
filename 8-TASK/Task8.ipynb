{
 "cells": [
  {
   "cell_type": "markdown",
   "metadata": {},
   "source": [
    "## Задание \n",
    "При помощи стека (можно использовать любую реализацию стека, например, из лекции) проверить, что в строке, содержащей большой фрагмент кода на python, корректно открываются и закрываются скобки '(' и ')'. Заводить какие-либо счетчики и вообще вести подсчет скобок запрещено.\n"
   ]
  },
  {
   "cell_type": "code",
   "execution_count": null,
   "metadata": {},
   "outputs": [],
   "source": [
    "from collections import deque\n",
    "\n",
    "fl = 1\n",
    "\n",
    "class Stack(deque):\n",
    "    push = deque.append\n",
    "\n",
    "    \n",
    "st = Stack()\n",
    "string = input()\n",
    "\n",
    "for elem in string:\n",
    "    if elem == '(':\n",
    "        st.push(1)\n",
    "    elif elem == ')':\n",
    "        try:\n",
    "            st.pop()\n",
    "        except IndexError:\n",
    "            print('Некорректные скобки')\n",
    "            flag = 0\n",
    "            break\n",
    "if fl:       \n",
    "    if len(st) == 0:\n",
    "        print('Корректные скобки')\n",
    "    else:\n",
    "        print('Некорректные скобки')"
   ]
  },
  {
   "cell_type": "markdown",
   "metadata": {},
   "source": [
    "##  Задание 2\n",
    "С помощью списка (list) реализовать стек. При создании стека нужно передать максимальную длину стека. В случае попытки добавления элемента, приводящего к превышению емкости стека возвращать ошибку"
   ]
  },
  {
   "cell_type": "code",
   "execution_count": 63,
   "metadata": {},
   "outputs": [],
   "source": [
    "class Stack(list):\n",
    "    push = list.append\n",
    "    \n",
    "    def __init__(self, ln):\n",
    "        self.ln = ln\n",
    "        \n",
    "    def push(self, elem):\n",
    "        if self.ln == len(self):\n",
    "            print(\"Stack Overflow\")\n",
    "            return\n",
    "        else:\n",
    "            self.append(elem)\n",
    "            \n",
    "    def pop(self):\n",
    "        res = self[-1]\n",
    "        del self[-1]\n",
    "        return res\n",
    "    \n",
    "    def top(self):\n",
    "        return self[-1]\n",
    "    \n",
    "    def is_empty(self):\n",
    "        if len(self) == 0:\n",
    "            return True\n",
    "        else:\n",
    "            return False\n",
    "    \n",
    "    "
   ]
  },
  {
   "cell_type": "markdown",
   "metadata": {},
   "source": [
    "## Задание 3\n",
    "Реализовать класс однонаправленного связанного списка."
   ]
  },
  {
   "cell_type": "code",
   "execution_count": 111,
   "metadata": {},
   "outputs": [],
   "source": [
    "import random\n",
    "\n",
    "\n",
    "class LinkedList:\n",
    "    def __init__(self):\n",
    "        self.id_dict = dict()\n",
    "        self.first = hash('a')\n",
    "        self.prev = self.first\n",
    "          \n",
    "    def push(self, elem):\n",
    "        if not self.id_dict:\n",
    "            self.id_dict[self.first] = [elem, None]\n",
    "        \n",
    "        else:\n",
    "            generated_hash = hash(str(elem) + str(random.random()))\n",
    "            self.id_dict[generated_hash] = [elem, None]\n",
    "            self.id_dict[self.prev][1] = generated_hash\n",
    "            self.prev = generated_hash\n",
    "            \n",
    "    def push_top(self, elem):\n",
    "        if not self.id_dict:\n",
    "            self.id_dict[self.first] = [elem, None]\n",
    "        \n",
    "        else:\n",
    "            generated_hash = hash(str(elem) + str(random.random()))\n",
    "            self.id_dict[generated_hash] = [elem, self.first]\n",
    "            self.first = generated_hash\n",
    "            \n",
    "    def __getitem__(self, ind):\n",
    "        nxt = self.first\n",
    "        for _ in range(ind + 1):\n",
    "            cur = self.id_dict[nxt]\n",
    "            nxt = cur[1]\n",
    "            el = cur[0]\n",
    "        return el "
   ]
  },
  {
   "cell_type": "markdown",
   "metadata": {},
   "source": [
    "## Задание 4\n",
    "На базе класса однонаправленного связанного списка реализовать двунаправленный связанный список"
   ]
  },
  {
   "cell_type": "code",
   "execution_count": 140,
   "metadata": {},
   "outputs": [],
   "source": [
    "import random\n",
    "\n",
    "\n",
    "class DuoLinkedList(LinkedList):\n",
    "          \n",
    "    def push(self, elem):\n",
    "        if not self.id_dict:\n",
    "            self.id_dict[self.first] = [elem, None, None]\n",
    "        \n",
    "        else:\n",
    "            generated_hash = hash(str(elem) + str(random.random()))\n",
    "            self.id_dict[generated_hash] = [elem, None, self.prev]\n",
    "            self.id_dict[self.prev][1] = generated_hash\n",
    "            self.prev = generated_hash\n",
    "            \n",
    "    def push_top(self, elem):\n",
    "        if not self.id_dict:\n",
    "            self.id_dict[self.first] = [elem, None, None]\n",
    "        \n",
    "        else:\n",
    "            generated_hash = hash(str(elem) + str(random.random()))\n",
    "            self.id_dict[generated_hash] = [elem, self.first, None]\n",
    "            self.id_dict[self.first][2] = generated_hash\n",
    "            self.first = generated_hash\n",
    "            \n",
    "    def __getitem__(self, ind):\n",
    "        ln = len(self.id_dict)\n",
    "        if ind > ln / 2:\n",
    "            nxt = self.prev\n",
    "            for _ in range(ind + 1):\n",
    "                cur = self.id_dict[nxt]\n",
    "                nxt = cur[2]\n",
    "                el = cur[0]\n",
    "        else:\n",
    "            nxt = self.first\n",
    "            for _ in range(ind + 1):\n",
    "                cur = self.id_dict[nxt]\n",
    "                nxt = cur[1]\n",
    "                el = cur[0]\n",
    "        return el "
   ]
  },
  {
   "cell_type": "markdown",
   "metadata": {},
   "source": [
    "## Задание 5\n",
    "При помощи класса связанного списка реализовать очередь"
   ]
  },
  {
   "cell_type": "code",
   "execution_count": 145,
   "metadata": {},
   "outputs": [],
   "source": [
    "class Queue(LinkedList):\n",
    "    def pop(self):\n",
    "        res = self.id_dict[self.first]\n",
    "        ind = self.id_dict[self.first][1]\n",
    "        del self.id_dict[self.first]\n",
    "        self.first = ind\n",
    "        return res[0]"
   ]
  }
 ],
 "metadata": {
  "kernelspec": {
   "display_name": "Python 3",
   "language": "python",
   "name": "python3"
  },
  "language_info": {
   "codemirror_mode": {
    "name": "ipython",
    "version": 3
   },
   "file_extension": ".py",
   "mimetype": "text/x-python",
   "name": "python",
   "nbconvert_exporter": "python",
   "pygments_lexer": "ipython3",
   "version": "3.8.3"
  }
 },
 "nbformat": 4,
 "nbformat_minor": 4
}
